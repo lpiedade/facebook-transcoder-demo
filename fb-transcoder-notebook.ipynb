{
 "cells": [
  {
   "cell_type": "markdown",
   "metadata": {},
   "source": [
    "# TransCoder Demo\n",
    "\n",
    "Pytorch original implementation of TransCoder in [Unsupervised Translation of Programming Languages](https://arxiv.org/pdf/2006.03511.pdf)\n",
    "![Model](https://dl.fbaipublicfiles.com/transcoder/TransCoder_Schema.jpg)"
   ]
  },
  {
   "cell_type": "markdown",
   "metadata": {},
   "source": [
    "### Environment Setup"
   ]
  },
  {
   "cell_type": "code",
   "execution_count": 77,
   "metadata": {
    "colab": {
     "base_uri": "https://localhost:8080/",
     "height": 401
    },
    "colab_type": "code",
    "id": "FHYOP8iUBWeA",
    "outputId": "b17e3a7a-299c-416f-90fc-85a53c72412b"
   },
   "outputs": [],
   "source": [
    "%%capture\n",
    "!apt-get update\n",
    "!apt-get -y install gcc g++ llvm libclang-dev"
   ]
  },
  {
   "cell_type": "markdown",
   "metadata": {
    "colab": {},
    "colab_type": "code",
    "id": "pafSUiQuOsF9"
   },
   "source": [
    "### Python Dependencies"
   ]
  },
  {
   "cell_type": "code",
   "execution_count": 78,
   "metadata": {},
   "outputs": [],
   "source": [
    "%%capture\n",
    "!pip install torchvision\n",
    "!pip install six\n",
    "!pip install sacrebleu==\"1.2.11\"\n",
    "!pip install submitit\n",
    "!pip install clang"
   ]
  },
  {
   "cell_type": "code",
   "execution_count": 79,
   "metadata": {
    "colab": {
     "base_uri": "https://localhost:8080/",
     "height": 228
    },
    "colab_type": "code",
    "id": "Sb0k-UiGBbXK",
    "outputId": "abd6e8af-7e74-4073-a5dc-017bc37fbf90"
   },
   "outputs": [],
   "source": [
    "# import OS to use \"change dir\"\n",
    "import os"
   ]
  },
  {
   "cell_type": "code",
   "execution_count": null,
   "metadata": {
    "colab": {},
    "colab_type": "code",
    "id": "P34fJMt-RY-V"
   },
   "outputs": [],
   "source": []
  },
  {
   "cell_type": "code",
   "execution_count": 80,
   "metadata": {},
   "outputs": [],
   "source": [
    "# os.chdir(\"../../\")\n",
    "#!pwd"
   ]
  },
  {
   "cell_type": "markdown",
   "metadata": {
    "colab": {},
    "colab_type": "code",
    "id": "3TUjtb9QRsZ4"
   },
   "source": [
    "# fastBPE\n",
    "\n",
    "C++ implementation of [Neural Machine Translation of Rare Words with Subword Units](https://arxiv.org/abs/1508.07909), with Python API."
   ]
  },
  {
   "cell_type": "code",
   "execution_count": 81,
   "metadata": {
    "colab": {
     "base_uri": "https://localhost:8080/",
     "height": 121
    },
    "colab_type": "code",
    "id": "pViWffR7BmxX",
    "outputId": "9dd9d858-6071-4ae0-e40c-d75b184fd023"
   },
   "outputs": [
    {
     "name": "stdout",
     "output_type": "stream",
     "text": [
      "fatal: destination path 'fastBPE' already exists and is not an empty directory.\n"
     ]
    }
   ],
   "source": [
    "!git clone https://github.com/glample/fastBPE"
   ]
  },
  {
   "cell_type": "code",
   "execution_count": 82,
   "metadata": {
    "colab": {},
    "colab_type": "code",
    "id": "lex2TZ05BrkD"
   },
   "outputs": [
    {
     "name": "stdout",
     "output_type": "stream",
     "text": [
      "/root/facebook-transcoder-demo/fastBPE\n"
     ]
    }
   ],
   "source": [
    "os.chdir(\"fastBPE\")\n",
    "!pwd"
   ]
  },
  {
   "cell_type": "code",
   "execution_count": 83,
   "metadata": {
    "colab": {
     "base_uri": "https://localhost:8080/",
     "height": 869
    },
    "colab_type": "code",
    "id": "u-sF3DvIByJT",
    "outputId": "48dd14d5-ce98-4a99-f40b-1e446faa483e"
   },
   "outputs": [],
   "source": [
    "%%capture\n",
    "!python setup.py install"
   ]
  },
  {
   "cell_type": "code",
   "execution_count": 84,
   "metadata": {
    "colab": {},
    "colab_type": "code",
    "id": "p-Z1GJMJBynd"
   },
   "outputs": [],
   "source": [
    "# return to root folder\n",
    "os.chdir(\"..\")"
   ]
  },
  {
   "cell_type": "markdown",
   "metadata": {},
   "source": [
    "### Apex (A PyTorch Extension)\n",
    "\n",
    "Pytorch extension with NVIDIA-maintained utilities to streamline mixed precision and distributed training."
   ]
  },
  {
   "cell_type": "code",
   "execution_count": 85,
   "metadata": {
    "colab": {
     "base_uri": "https://localhost:8080/",
     "height": 139
    },
    "colab_type": "code",
    "id": "u0d1S_ZkB3CD",
    "outputId": "43919220-c94c-49a0-abd2-801205017b39"
   },
   "outputs": [
    {
     "name": "stdout",
     "output_type": "stream",
     "text": [
      "fatal: destination path 'apex' already exists and is not an empty directory.\n"
     ]
    }
   ],
   "source": [
    "!git clone https://github.com/NVIDIA/apex"
   ]
  },
  {
   "cell_type": "code",
   "execution_count": 86,
   "metadata": {
    "colab": {
     "base_uri": "https://localhost:8080/",
     "height": 1000
    },
    "colab_type": "code",
    "id": "znkyngdCB8gl",
    "outputId": "2fe65343-4e6b-4d12-b8f6-ec362876650a"
   },
   "outputs": [],
   "source": [
    "%%capture\n",
    "os.chdir(\"apex\")\n",
    "!pip install -v --no-cache-dir ./"
   ]
  },
  {
   "cell_type": "code",
   "execution_count": 87,
   "metadata": {
    "colab": {},
    "colab_type": "code",
    "id": "gzYs504FPUMw"
   },
   "outputs": [],
   "source": [
    "# return to root folder\n",
    "os.chdir(\"..\")"
   ]
  },
  {
   "cell_type": "code",
   "execution_count": 88,
   "metadata": {
    "colab": {
     "base_uri": "https://localhost:8080/",
     "height": 139
    },
    "colab_type": "code",
    "id": "1ufqBHArCD58",
    "outputId": "4c1cac76-b7d2-4cb6-d590-d4dc22c40802"
   },
   "outputs": [
    {
     "name": "stdout",
     "output_type": "stream",
     "text": [
      "fatal: destination path 'TransCoder' already exists and is not an empty directory.\n"
     ]
    }
   ],
   "source": [
    "!git clone https://github.com/facebookresearch/TransCoder.git"
   ]
  },
  {
   "cell_type": "markdown",
   "metadata": {},
   "source": [
    "## Pre-trained models\n",
    "* Model 1: \n",
    "    * C++ -> Java\n",
    "    * Java -> C++\n",
    "    * Java -> Python\n",
    "* Model 2:\n",
    "    * C++ -> Python\n",
    "    * Python -> C++\n",
    "    * Python -> Java"
   ]
  },
  {
   "cell_type": "code",
   "execution_count": 89,
   "metadata": {
    "colab": {
     "base_uri": "https://localhost:8080/",
     "height": 208
    },
    "colab_type": "code",
    "id": "UVKkPhHYGgUO",
    "outputId": "6b554a85-4b03-4e76-e63e-ecc9f666d9b5"
   },
   "outputs": [
    {
     "name": "stdout",
     "output_type": "stream",
     "text": [
      "--2021-06-07 22:48:54--  https://dl.fbaipublicfiles.com/transcoder/model_1.pth\n",
      "Resolving dl.fbaipublicfiles.com (dl.fbaipublicfiles.com)... 172.67.9.4, 104.22.74.142, 104.22.75.142, ...\n",
      "Connecting to dl.fbaipublicfiles.com (dl.fbaipublicfiles.com)|172.67.9.4|:443... connected.\n",
      "HTTP request sent, awaiting response... 200 OK\n",
      "Length: 622089114 (593M) [application/octet-stream]\n",
      "Saving to: ‘model_1.pth.1’\n",
      "\n",
      "model_1.pth.1       100%[===================>] 593.27M  23.0MB/s    in 26s     \n",
      "\n",
      "2021-06-07 22:49:25 (22.6 MB/s) - ‘model_1.pth.1’ saved [622089114/622089114]\n",
      "\n"
     ]
    }
   ],
   "source": [
    "# Download pre-trained model 1\n",
    "!wget https://dl.fbaipublicfiles.com/transcoder/model_1.pth"
   ]
  },
  {
   "cell_type": "code",
   "execution_count": 90,
   "metadata": {},
   "outputs": [
    {
     "name": "stdout",
     "output_type": "stream",
     "text": [
      "--2021-06-07 22:49:25--  https://dl.fbaipublicfiles.com/transcoder/model_2.pth\n",
      "Resolving dl.fbaipublicfiles.com (dl.fbaipublicfiles.com)... 104.22.75.142, 172.67.9.4, 104.22.74.142, ...\n",
      "Connecting to dl.fbaipublicfiles.com (dl.fbaipublicfiles.com)|104.22.75.142|:443... connected.\n",
      "HTTP request sent, awaiting response... 200 OK\n",
      "Length: 622089114 (593M) [application/octet-stream]\n",
      "Saving to: ‘model_2.pth.2’\n",
      "\n",
      "model_2.pth.2       100%[===================>] 593.27M  22.9MB/s    in 26s     \n",
      "\n",
      "2021-06-07 22:49:58 (22.5 MB/s) - ‘model_2.pth.2’ saved [622089114/622089114]\n",
      "\n"
     ]
    }
   ],
   "source": [
    "# Download pre-trained model 1\n",
    "!wget https://dl.fbaipublicfiles.com/transcoder/model_2.pth"
   ]
  },
  {
   "cell_type": "code",
   "execution_count": 91,
   "metadata": {
    "colab": {
     "base_uri": "https://localhost:8080/",
     "height": 139
    },
    "colab_type": "code",
    "id": "japt1zVvGl9a",
    "outputId": "ae84f973-f227-48f3-89ed-02525c573675"
   },
   "outputs": [
    {
     "name": "stdout",
     "output_type": "stream",
     "text": [
      "Loading codes from /root/facebook-transcoder-demo/TransCoder/data/BPE_with_comments_codes ...\n",
      "Read 50000 codes from the codes file.\n",
      "====================\n",
      "public static double maximum ( double a , double b ) {\n",
      "  return a > b ? a : b ;\n",
      "}\n",
      "\n"
     ]
    }
   ],
   "source": [
    "!python TransCoder/translate.py \\\n",
    "--src_lang python \\\n",
    "--tgt_lang java \\\n",
    "--BPE_path TransCoder/data/BPE_with_comments_codes \\\n",
    "--model_path model_2.pth < max_inp.py"
   ]
  },
  {
   "cell_type": "code",
   "execution_count": 92,
   "metadata": {
    "colab": {},
    "colab_type": "code",
    "id": "1xPAv-7-P9Cg"
   },
   "outputs": [
    {
     "name": "stdout",
     "output_type": "stream",
     "text": [
      "Loading codes from /root/facebook-transcoder-demo/TransCoder/data/BPE_with_comments_codes ...\n",
      "Read 50000 codes from the codes file.\n",
      "====================\n",
      "public static int Fibonacci ( int n ) {\n",
      "  if ( n < 0 ) {\n",
      "    System . out . println ( \"Incorrect input\" ) ;\n",
      "  }\n",
      "  else if ( n == 1 ) {\n",
      "    return 0 ;\n",
      "  }\n",
      "  else if ( n == 2 ) {\n",
      "    return 1 ;\n",
      "  }\n",
      "  else {\n",
      "    return Fibonacci ( n - 1 ) + Fibonacci ( n - 2 ) ;\n",
      "  }\n",
      "}\n",
      "\n"
     ]
    }
   ],
   "source": [
    "!python TransCoder/translate.py \\\n",
    "--src_lang python \\\n",
    "--tgt_lang java \\\n",
    "--BPE_path TransCoder/data/BPE_with_comments_codes \\\n",
    "--model_path model_2.pth < fibo.py"
   ]
  },
  {
   "cell_type": "code",
   "execution_count": 111,
   "metadata": {},
   "outputs": [],
   "source": [
    "%run fibo.py"
   ]
  },
  {
   "cell_type": "code",
   "execution_count": 119,
   "metadata": {
    "colab": {},
    "colab_type": "code",
    "id": "zlDCl3_FQXqs"
   },
   "outputs": [
    {
     "data": {
      "text/plain": [
       "102334155"
      ]
     },
     "execution_count": 119,
     "metadata": {},
     "output_type": "execute_result"
    }
   ],
   "source": [
    "Fibonacci(40)"
   ]
  },
  {
   "cell_type": "code",
   "execution_count": null,
   "metadata": {},
   "outputs": [],
   "source": []
  },
  {
   "cell_type": "code",
   "execution_count": null,
   "metadata": {},
   "outputs": [],
   "source": []
  }
 ],
 "metadata": {
  "accelerator": "GPU",
  "colab": {
   "collapsed_sections": [],
   "name": "hh.ipynb",
   "provenance": []
  },
  "instance_type": "ml.g4dn.xlarge",
  "kernelspec": {
   "display_name": "Python 3 (Data Science)",
   "language": "python",
   "name": "python3__SAGEMAKER_INTERNAL__arn:aws:sagemaker:us-east-2:429704687514:image/datascience-1.0"
  },
  "language_info": {
   "codemirror_mode": {
    "name": "ipython",
    "version": 3
   },
   "file_extension": ".py",
   "mimetype": "text/x-python",
   "name": "python",
   "nbconvert_exporter": "python",
   "pygments_lexer": "ipython3",
   "version": "3.7.10"
  }
 },
 "nbformat": 4,
 "nbformat_minor": 4
}
